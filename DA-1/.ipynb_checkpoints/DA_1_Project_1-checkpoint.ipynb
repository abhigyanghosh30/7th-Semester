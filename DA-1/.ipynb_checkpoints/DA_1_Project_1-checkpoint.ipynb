{
 "cells": [
  {
   "cell_type": "code",
   "execution_count": 1,
   "metadata": {
    "colab": {
     "base_uri": "https://localhost:8080/",
     "height": 495
    },
    "colab_type": "code",
    "id": "eFV9cxMseOOv",
    "outputId": "52dc4090-5a29-400f-bdc0-a55d59437232"
   },
   "outputs": [],
   "source": [
    "import numpy as np\n",
    "import pandas as pd\n",
    "from matplotlib import pyplot as plt\n",
    "from sklearn.tree import DecisionTreeRegressor\n",
    "# from google.colab import drive\n",
    "\n",
    "# drive.mount('/content/gdrive/')\n",
    "# root_path = 'gdrive/My Drive/DA-1/'\n",
    "root_path = ''\n",
    "\n",
    "data = pd.read_csv(root_path+\"Indian Earthquakes List Update_Magnitudes.csv\", low_memory=False)\n",
    "data = data.drop(['REFERENCE'],axis =1)\n",
    "data = data.drop(['Sl. No.'],axis =1)\n",
    "data = data.drop(['Mb'],axis =1)\n",
    "data = data.drop(['Ms'],axis =1)\n",
    "data = data.drop(['Ml'],axis =1)"
   ]
  },
  {
   "cell_type": "code",
   "execution_count": 2,
   "metadata": {
    "colab": {},
    "colab_type": "code",
    "id": "lyOR0alzoPnf"
   },
   "outputs": [
    {
     "data": {
      "text/plain": [
       "array([nan, '10', '5', '4', '8', '7', '6', 'IMD', 'SOLOMON ISLANDS',\n",
       "       'OFFSHORE NORTHERN CALIFORNIA', 'HAITI REGION', 'HAITI',\n",
       "       'SOUTHERN SUMATRA, INDONESIA',\n",
       "       'KEPULAUAN MENTAWAI REGION, INDONESIA',\n",
       "       'KEPULAUAN BARAT DAYA, INDONESIA', '5ANUATU',\n",
       "       'SOUTHWEST OF SUMATRA, INDONESIA', 'HALMAHERA ,INDONESIA',\n",
       "       'SOUTHERN SUMATRA,INDONESIA', 'PAPUA NEW GUINEA',\n",
       "       'BAJA CALIFORNIA,ME10ICO', 'MOLUCCA SEA',\n",
       "       'NEW GUINEA, PAPUA NEW GUINEA', 'SPAIN', 'INDONESIA', 'BERING SEA',\n",
       "       'NEAR NORTH COAST OF PAPUA, INDONESIA',\n",
       "       'SOUTH OF KERMADEC ISLANDS', 'PAPUA NEWGUINEA', 'JA5A,INDONESIA',\n",
       "       'SOUTH OF THE FIJI ISLANDS', 'OA10ACA,ME10ICO',\n",
       "       'ALEUTIAN ISLANDS,ALASKA', 'NEW BRITAIN REGION, PAPUA NEW GUINEA',\n",
       "       'CERAM SEA, INDONESIA', 'EASTERN NEW GUINEA REGION, P.N.G.',\n",
       "       'KOYNA REGION, MAHARASHTRA', 'ANDAMAN ISLANDS REGION',\n",
       "       'OFF EAST COAST OF HONSHU,JAPAN', 'BHUJ,GUJARAT',\n",
       "       'SHIMLA, HIMACHAL PRADESH', 'MARIANA ISLANDS REGION',\n",
       "       'AJMER,RAJASTHAN', 'THANE,MAHARASTRA', 'OFF THE COAST OF ME10ICO',\n",
       "       'HINDUKUSH REGION, AFGHANISTAN', 'BHUJ, GUJARAT',\n",
       "       'MID-INDIAN RIDGE', 'ANDREANOF ISLANDS,ALEUTIAN ISLANDS,ALASKA',\n",
       "       'SOUTH ISLAND,NEW ZEALAND', 'KEPULAUN KAI,INDONESIA',\n",
       "       'NEAR SOUTH COAST OF PAPUA,INDONESIA',\n",
       "       'ANDREANOF ISLANDS, ALEUTIAN ISLANDS, ALASKA',\n",
       "       'NEAR SOUTH COAST OF PAPUA, INDONESIA', 'BANDA SEA',\n",
       "       'GULF OF CALIFORNIA', 'KEPULAUN MENTAWAI REGION,INDONESIA',\n",
       "       'KEP. MENTAWAI REGION,INDONESIA', 'SOUTHEAST INDIAN RIDGE',\n",
       "       'NEW BRITAIN REGION, P.N.G', 'SOUTH INDIAN OCEAN',\n",
       "       'NEW BRITAIN REGION, P. N. G',\n",
       "       'BOUGAIN6LLE REGION,PAPUA NEW GUINEA', '5ANUATU ISLANDS',\n",
       "       '5ANUATU ISLANDS REGION', 'LOYALTY ISLANDS',\n",
       "       'JAN MAYEN ISLAND REGION', 'SULAWESI INDONESIA',\n",
       "       'SOUTH OF FIJI ISLANDS', 'SOUTH ISLANDS OF NEWZEALAND',\n",
       "       'SANTA CRUZ ISLANDS', '5ANCOU5ER, ISLANDS, CANADA REGION',\n",
       "       'KATCHCHH REGION,GUJARAT', 'SOUTH OF BALI, INDONESIA',\n",
       "       'RE6LLA GIGEDO ISLANDS REGION, ME10ICO', 'MOLUCCA SEA, INDONESIA',\n",
       "       'OFF EAST COAST OF NORTH ISLANDS,N.Z.', 'Bali Sea,Indonesia',\n",
       "       'New Ireland Region,P.N.G', 'OFF WEST COAST OF SOUTH ISLAND,N.Z.',\n",
       "       'OFFSHORE CHIAPAS,ME10ICO', 'NORTHERN SUMATRA, INDONESIA',\n",
       "       '5ANUATU , ISLANDS', 'NEGROS-CEBU REGION, ISLANDS',\n",
       "       'SOUTH EAST OF LOYALTY ISLANDS', 'PAPAUA, INDONESIA',\n",
       "       'GUERRERO, ME10ICO', 'NEW GUINEA ,PAPUA NEW GUINEA',\n",
       "       'OA10ACA, ME10ICO', 'MICHOACAN, ME10ICO',\n",
       "       'EASTERN NEW GUINEA REG., P.N.G.',\n",
       "       'NEAR THE NORTH COAST OF PAPUA,INDONESIA', 'PANAMA',\n",
       "       'COOK STRAIT, NEW ZEALAND', '5ANATU', 'MAURITIUS-REUNION REGION',\n",
       "       'NEW IRELAND REGION, P.N.G',\n",
       "       'FO10 ISLANDS , ALEUTIAN ISLANDS, ALASKA', 'SULAWESI,INDONESIA',\n",
       "       'OFF SHORE EL SAL5ADORE', 'SOUTH OF JA5A, INDONESIA', 'COSTA RICA',\n",
       "       'PAPUA, INDONESIA', 'ALEUTIAN ISLANDS, ALASKA', 'COLOMBIA',\n",
       "       'BALLENY ISLANDS REGION', 'KEPULAUAN ARU REGION INDONESIA',\n",
       "       'SOUTHEAST OF LOYALITY ISLANDS', 'QUEEN CHARLOTTE ISLANDS REGION',\n",
       "       'NORTH ISLAND OF NEW ZEALAND', 'OFF WEST COAST OF BAJA CALIFORNIA',\n",
       "       'SULAWESI . INDONESIA', '5ANUATU ISLAND', '5anuatu Islands'],\n",
       "      dtype=object)"
      ]
     },
     "execution_count": 2,
     "metadata": {},
     "output_type": "execute_result"
    }
   ],
   "source": [
    "# Gotta convert intensity values to integers\n",
    "# data.INTENSITY.unique()\n",
    "data['INTENSITY']=data['INTENSITY'].str.replace('X', '10')\n",
    "data['INTENSITY']=data['INTENSITY'].str.replace('IV', '4')\n",
    "data['INTENSITY']=data['INTENSITY'].str.replace('VIII', '8')\n",
    "data['INTENSITY']=data['INTENSITY'].str.replace('VII', '7')\n",
    "data['INTENSITY']=data['INTENSITY'].str.replace('VI', '6')\n",
    "data['INTENSITY']=data['INTENSITY'].str.replace('V', '5')\n",
    "data.INTENSITY.unique()"
   ]
  },
  {
   "cell_type": "code",
   "execution_count": 3,
   "metadata": {
    "colab": {},
    "colab_type": "code",
    "id": "zCXEMg12Cto0"
   },
   "outputs": [],
   "source": [
    "# Pick a threshold that seem fit between [4, 5] inclusive.\n",
    "# For Mw < T , label becomes 0 (no earthquake) and for Mw ≥ T becomes 1 (earthquake)\n",
    "T = 4.5"
   ]
  },
  {
   "cell_type": "code",
   "execution_count": null,
   "metadata": {
    "colab": {},
    "colab_type": "code",
    "id": "amJITSLX0uOy"
   },
   "outputs": [],
   "source": [
    "# Convert values of Mw according to T for labels\n",
    "data['label'] = data['Mw'].astype(str)\n",
    "data['label']=pd.to_numeric(data['label'], downcast='float', errors='coerce')\n",
    "data['label'] = (data['label'] >= T).astype(int)\n",
    "data.head()"
   ]
  },
  {
   "cell_type": "code",
   "execution_count": null,
   "metadata": {
    "colab": {},
    "colab_type": "code",
    "id": "rAIpJ5Tvn8A6"
   },
   "outputs": [],
   "source": [
    "data['INTENSITY'] = data['INTENSITY'].astype(str)\n",
    "data['INTENSITY']=pd.to_numeric(data['INTENSITY'], downcast='float', errors='coerce')"
   ]
  },
  {
   "cell_type": "code",
   "execution_count": 22,
   "metadata": {
    "colab": {},
    "colab_type": "code",
    "id": "RuymZPHXlZ80"
   },
   "outputs": [],
   "source": [
    "data.columns = ['YEAR','MONTH', 'DATE', 'ORIGIN', 'Mw', 'LAT', 'LONG', 'DEPTH', 'INTENSITY', 'LOCATION', 'label']"
   ]
  },
  {
   "cell_type": "code",
   "execution_count": 23,
   "metadata": {
    "colab": {
     "base_uri": "https://localhost:8080/",
     "height": 191
    },
    "colab_type": "code",
    "id": "c1UPbKs2S79G",
    "outputId": "e737a97f-1d2d-440c-adf9-34fb925b8585"
   },
   "outputs": [
    {
     "name": "stdout",
     "output_type": "stream",
     "text": [
      "Missing values: \n",
      "MONTH           18\n",
      "DATE            57\n",
      "ORIGIN       31803\n",
      "Mw            2504\n",
      "DEPTH         2178\n",
      "INTENSITY    52948\n",
      "LOCATION     43615\n",
      "dtype: int64\n"
     ]
    }
   ],
   "source": [
    "# Cleaning\n",
    "outliers = data.isnull().sum()\n",
    "print(\"Missing values: \")\n",
    "print(outliers[outliers>0])"
   ]
  },
  {
   "cell_type": "code",
   "execution_count": 24,
   "metadata": {
    "colab": {
     "base_uri": "https://localhost:8080/",
     "height": 284
    },
    "colab_type": "code",
    "id": "m6nNoVbRQKvR",
    "outputId": "29caeb79-f3bf-47b3-d0af-e715320da143"
   },
   "outputs": [
    {
     "data": {
      "text/plain": [
       "<matplotlib.axes._subplots.AxesSubplot at 0x7facbff2dcc0>"
      ]
     },
     "execution_count": 24,
     "metadata": {
      "tags": []
     },
     "output_type": "execute_result"
    },
    {
     "data": {
      "image/png": "[encoded data removed]",
      "text/plain": [
       "<Figure size 432x288 with 1 Axes>"
      ]
     },
     "metadata": {
      "needs_background": "light",
      "tags": []
     },
     "output_type": "display_data"
    }
   ],
   "source": [
    "data.Mw.hist()"
   ]
  },
  {
   "cell_type": "code",
   "execution_count": 24,
   "metadata": {
    "colab": {},
    "colab_type": "code",
    "id": "pv9zosANqyd9"
   },
   "outputs": [],
   "source": []
  },
  {
   "cell_type": "code",
   "execution_count": 25,
   "metadata": {
    "colab": {},
    "colab_type": "code",
    "id": "wbxqFMGA7vRD"
   },
   "outputs": [],
   "source": [
    "import sklearn\n",
    "from sklearn.utils import shuffle\n",
    "from sklearn.model_selection import train_test_split\n",
    "# train, test = train_test_split(data, test_size=0.2)"
   ]
  },
  {
   "cell_type": "code",
   "execution_count": 26,
   "metadata": {
    "colab": {},
    "colab_type": "code",
    "id": "4jIpgDKBCirM"
   },
   "outputs": [],
   "source": [
    "features = ['LAT', 'LONG', 'DEPTH', 'INTENSITY']\n",
    "# features = ['DEPTH', 'INTENSITY']\n",
    "X = data[features]\n",
    "y=data.label\n",
    "train_X, val_X, train_y, val_y = train_test_split(X, y, test_size=0.20, random_state=1)\n"
   ]
  },
  {
   "cell_type": "code",
   "execution_count": 27,
   "metadata": {
    "colab": {
     "base_uri": "https://localhost:8080/",
     "height": 359
    },
    "colab_type": "code",
    "id": "vbsofuhpwsjc",
    "outputId": "9cd330ab-9abe-4bb4-d510-c2655f6de61c"
   },
   "outputs": [
    {
     "ename": "ValueError",
     "evalue": "ignored",
     "output_type": "error",
     "traceback": [
      "\u001b[0;31m---------------------------------------------------------------------------\u001b[0m",
      "\u001b[0;31mValueError\u001b[0m                                Traceback (most recent call last)",
      "\u001b[0;32m<ipython-input-27-5b416b234cb5>\u001b[0m in \u001b[0;36m<module>\u001b[0;34m()\u001b[0m\n\u001b[1;32m      1\u001b[0m \u001b[0mdec_model\u001b[0m\u001b[0;34m=\u001b[0m\u001b[0mDecisionTreeRegressor\u001b[0m\u001b[0;34m(\u001b[0m\u001b[0mrandom_state\u001b[0m\u001b[0;34m=\u001b[0m\u001b[0;36m1\u001b[0m\u001b[0;34m)\u001b[0m\u001b[0;34m\u001b[0m\u001b[0;34m\u001b[0m\u001b[0m\n\u001b[0;32m----> 2\u001b[0;31m \u001b[0mdec_model\u001b[0m\u001b[0;34m.\u001b[0m\u001b[0mfit\u001b[0m\u001b[0;34m(\u001b[0m\u001b[0mtrain_X\u001b[0m\u001b[0;34m,\u001b[0m \u001b[0mtrain_y\u001b[0m\u001b[0;34m)\u001b[0m\u001b[0;34m\u001b[0m\u001b[0;34m\u001b[0m\u001b[0m\n\u001b[0m",
      "\u001b[0;32m/usr/local/lib/python3.6/dist-packages/sklearn/tree/_classes.py\u001b[0m in \u001b[0;36mfit\u001b[0;34m(self, X, y, sample_weight, check_input, X_idx_sorted)\u001b[0m\n\u001b[1;32m   1223\u001b[0m             \u001b[0msample_weight\u001b[0m\u001b[0;34m=\u001b[0m\u001b[0msample_weight\u001b[0m\u001b[0;34m,\u001b[0m\u001b[0;34m\u001b[0m\u001b[0;34m\u001b[0m\u001b[0m\n\u001b[1;32m   1224\u001b[0m             \u001b[0mcheck_input\u001b[0m\u001b[0;34m=\u001b[0m\u001b[0mcheck_input\u001b[0m\u001b[0;34m,\u001b[0m\u001b[0;34m\u001b[0m\u001b[0;34m\u001b[0m\u001b[0m\n\u001b[0;32m-> 1225\u001b[0;31m             X_idx_sorted=X_idx_sorted)\n\u001b[0m\u001b[1;32m   1226\u001b[0m         \u001b[0;32mreturn\u001b[0m \u001b[0mself\u001b[0m\u001b[0;34m\u001b[0m\u001b[0;34m\u001b[0m\u001b[0m\n\u001b[1;32m   1227\u001b[0m \u001b[0;34m\u001b[0m\u001b[0m\n",
      "\u001b[0;32m/usr/local/lib/python3.6/dist-packages/sklearn/tree/_classes.py\u001b[0m in \u001b[0;36mfit\u001b[0;34m(self, X, y, sample_weight, check_input, X_idx_sorted)\u001b[0m\n\u001b[1;32m    147\u001b[0m \u001b[0;34m\u001b[0m\u001b[0m\n\u001b[1;32m    148\u001b[0m         \u001b[0;32mif\u001b[0m \u001b[0mcheck_input\u001b[0m\u001b[0;34m:\u001b[0m\u001b[0;34m\u001b[0m\u001b[0;34m\u001b[0m\u001b[0m\n\u001b[0;32m--> 149\u001b[0;31m             \u001b[0mX\u001b[0m \u001b[0;34m=\u001b[0m \u001b[0mcheck_array\u001b[0m\u001b[0;34m(\u001b[0m\u001b[0mX\u001b[0m\u001b[0;34m,\u001b[0m \u001b[0mdtype\u001b[0m\u001b[0;34m=\u001b[0m\u001b[0mDTYPE\u001b[0m\u001b[0;34m,\u001b[0m \u001b[0maccept_sparse\u001b[0m\u001b[0;34m=\u001b[0m\u001b[0;34m\"csc\"\u001b[0m\u001b[0;34m)\u001b[0m\u001b[0;34m\u001b[0m\u001b[0;34m\u001b[0m\u001b[0m\n\u001b[0m\u001b[1;32m    150\u001b[0m             \u001b[0my\u001b[0m \u001b[0;34m=\u001b[0m \u001b[0mcheck_array\u001b[0m\u001b[0;34m(\u001b[0m\u001b[0my\u001b[0m\u001b[0;34m,\u001b[0m \u001b[0mensure_2d\u001b[0m\u001b[0;34m=\u001b[0m\u001b[0;32mFalse\u001b[0m\u001b[0;34m,\u001b[0m \u001b[0mdtype\u001b[0m\u001b[0;34m=\u001b[0m\u001b[0;32mNone\u001b[0m\u001b[0;34m)\u001b[0m\u001b[0;34m\u001b[0m\u001b[0;34m\u001b[0m\u001b[0m\n\u001b[1;32m    151\u001b[0m             \u001b[0;32mif\u001b[0m \u001b[0missparse\u001b[0m\u001b[0;34m(\u001b[0m\u001b[0mX\u001b[0m\u001b[0;34m)\u001b[0m\u001b[0;34m:\u001b[0m\u001b[0;34m\u001b[0m\u001b[0;34m\u001b[0m\u001b[0m\n",
      "\u001b[0;32m/usr/local/lib/python3.6/dist-packages/sklearn/utils/validation.py\u001b[0m in \u001b[0;36mcheck_array\u001b[0;34m(array, accept_sparse, accept_large_sparse, dtype, order, copy, force_all_finite, ensure_2d, allow_nd, ensure_min_samples, ensure_min_features, warn_on_dtype, estimator)\u001b[0m\n\u001b[1;32m    529\u001b[0m                     \u001b[0marray\u001b[0m \u001b[0;34m=\u001b[0m \u001b[0marray\u001b[0m\u001b[0;34m.\u001b[0m\u001b[0mastype\u001b[0m\u001b[0;34m(\u001b[0m\u001b[0mdtype\u001b[0m\u001b[0;34m,\u001b[0m \u001b[0mcasting\u001b[0m\u001b[0;34m=\u001b[0m\u001b[0;34m\"unsafe\"\u001b[0m\u001b[0;34m,\u001b[0m \u001b[0mcopy\u001b[0m\u001b[0;34m=\u001b[0m\u001b[0;32mFalse\u001b[0m\u001b[0;34m)\u001b[0m\u001b[0;34m\u001b[0m\u001b[0;34m\u001b[0m\u001b[0m\n\u001b[1;32m    530\u001b[0m                 \u001b[0;32melse\u001b[0m\u001b[0;34m:\u001b[0m\u001b[0;34m\u001b[0m\u001b[0;34m\u001b[0m\u001b[0m\n\u001b[0;32m--> 531\u001b[0;31m                     \u001b[0marray\u001b[0m \u001b[0;34m=\u001b[0m \u001b[0mnp\u001b[0m\u001b[0;34m.\u001b[0m\u001b[0masarray\u001b[0m\u001b[0;34m(\u001b[0m\u001b[0marray\u001b[0m\u001b[0;34m,\u001b[0m \u001b[0morder\u001b[0m\u001b[0;34m=\u001b[0m\u001b[0morder\u001b[0m\u001b[0;34m,\u001b[0m \u001b[0mdtype\u001b[0m\u001b[0;34m=\u001b[0m\u001b[0mdtype\u001b[0m\u001b[0;34m)\u001b[0m\u001b[0;34m\u001b[0m\u001b[0;34m\u001b[0m\u001b[0m\n\u001b[0m\u001b[1;32m    532\u001b[0m             \u001b[0;32mexcept\u001b[0m \u001b[0mComplexWarning\u001b[0m\u001b[0;34m:\u001b[0m\u001b[0;34m\u001b[0m\u001b[0;34m\u001b[0m\u001b[0m\n\u001b[1;32m    533\u001b[0m                 raise ValueError(\"Complex data not supported\\n\"\n",
      "\u001b[0;32m/usr/local/lib/python3.6/dist-packages/numpy/core/_asarray.py\u001b[0m in \u001b[0;36masarray\u001b[0;34m(a, dtype, order)\u001b[0m\n\u001b[1;32m     83\u001b[0m \u001b[0;34m\u001b[0m\u001b[0m\n\u001b[1;32m     84\u001b[0m     \"\"\"\n\u001b[0;32m---> 85\u001b[0;31m     \u001b[0;32mreturn\u001b[0m \u001b[0marray\u001b[0m\u001b[0;34m(\u001b[0m\u001b[0ma\u001b[0m\u001b[0;34m,\u001b[0m \u001b[0mdtype\u001b[0m\u001b[0;34m,\u001b[0m \u001b[0mcopy\u001b[0m\u001b[0;34m=\u001b[0m\u001b[0;32mFalse\u001b[0m\u001b[0;34m,\u001b[0m \u001b[0morder\u001b[0m\u001b[0;34m=\u001b[0m\u001b[0morder\u001b[0m\u001b[0;34m)\u001b[0m\u001b[0;34m\u001b[0m\u001b[0;34m\u001b[0m\u001b[0m\n\u001b[0m\u001b[1;32m     86\u001b[0m \u001b[0;34m\u001b[0m\u001b[0m\n\u001b[1;32m     87\u001b[0m \u001b[0;34m\u001b[0m\u001b[0m\n",
      "\u001b[0;31mValueError\u001b[0m: could not convert string to float: '29.9 N'"
     ]
    }
   ],
   "source": [
    "dec_model=DecisionTreeRegressor(random_state=1)\n",
    "dec_model.fit(train_X, train_y)"
   ]
  },
  {
   "cell_type": "code",
   "execution_count": null,
   "metadata": {
    "colab": {},
    "colab_type": "code",
    "id": "mdOcVoLjmJWc"
   },
   "outputs": [],
   "source": [
    "from sklearn.metrics import mean_absolute_error\n",
    "\n",
    "val_predictions = dec_model.predict(val_X)\n",
    "val_mae = mean_absolute_error(val_predictions, val_y)\n",
    "print(\"Validation MAE when not specifying max_leaf_nodes: {:,.0f}\".format(val_mae))"
   ]
  },
  {
   "cell_type": "code",
   "execution_count": null,
   "metadata": {
    "colab": {},
    "colab_type": "code",
    "id": "cM7vLDZqnvvA"
   },
   "outputs": [],
   "source": [
    "dec_model = DecisionTreeRegressor(max_leaf_nodes=100, random_state=1)\n",
    "dec_model.fit(train_X, train_y)\n",
    "val_predictions = dec_model.predict(val_X)\n",
    "val_mae = mean_absolute_error(val_predictions, val_y)\n",
    "print(\"Validation MAE for best value of max_leaf_nodes: {:,.0f}\".format(val_mae))"
   ]
  },
  {
   "cell_type": "code",
   "execution_count": null,
   "metadata": {
    "colab": {},
    "colab_type": "code",
    "id": "ZJLO3ZrVwgQQ"
   },
   "outputs": [],
   "source": [
    "from sklearn.model_selection import train_test_split, StratifiedKFold\n",
    "from sklearn.neighbors import KNeighborsClassifier\n",
    "from sklearn.tree import DecisionTreeClassifier\n",
    "from sklearn.preprocessing import StandardScaler\n",
    "\n",
    "# tree = DecisionTreeClassifier(max_depth=5, random_state=17)\n",
    "# knn = KNeighborsClassifier(n_neighbors=3)\n",
    "tree = DecisionTreeClassifier(max_depth=100, random_state=17)\n",
    "knn = KNeighborsClassifier(n_neighbors=5)\n",
    "tree.fit(train_X, train_y)\n",
    "\n",
    "# for kNN, we need to scale features\n",
    "scaler = StandardScaler()\n",
    "train_X_scaled = scaler.fit_transform(train_X)\n",
    "val_X_scaled = scaler.transform(val_X)\n",
    "knn.fit(train_X_scaled, train_y)"
   ]
  },
  {
   "cell_type": "code",
   "execution_count": null,
   "metadata": {
    "colab": {},
    "colab_type": "code",
    "id": "B1cyqaFMx0sg"
   },
   "outputs": [],
   "source": [
    "from sklearn.metrics import accuracy_score\n",
    "\n",
    "tree_pred = tree.predict(val_X)\n",
    "accuracy_score(val_y, tree_pred) "
   ]
  },
  {
   "cell_type": "code",
   "execution_count": null,
   "metadata": {
    "colab": {},
    "colab_type": "code",
    "id": "_LGjZ0CC0ID9"
   },
   "outputs": [],
   "source": [
    "knn_pred = knn.predict(val_X_scaled)\n",
    "accuracy_score(val_y, knn_pred)"
   ]
  },
  {
   "cell_type": "code",
   "execution_count": null,
   "metadata": {
    "colab": {},
    "colab_type": "code",
    "id": "WkQcNAwU1Rby"
   },
   "outputs": [],
   "source": [
    "from sklearn.metrics import roc_curve\n",
    "from sklearn.metrics import auc\n",
    "\n",
    "# ROC with K as parameter in KNN\n",
    "# knn = KNeighborsClassifier(n_neighbors = 10)\n",
    "knn.fit(train_X_scaled, train_y)\n",
    "\n",
    "y_scores = knn.predict_proba(val_X)\n",
    "fpr, tpr, threshold = roc_curve(val_y, y_scores[:, 1])\n",
    "roc_auc = auc(fpr, tpr)\n",
    "\n",
    "plt.title('KNN Classifier on Indian Earthquakes')\n",
    "plt.plot(fpr, tpr, 'b', label = 'AUC = %0.2f' % roc_auc)\n",
    "plt.legend(loc = 'lower right')\n",
    "plt.plot([0, 1], [0, 1],'r--')\n",
    "plt.xlim([0, 1])\n",
    "plt.ylim([0, 1])\n",
    "plt.ylabel('True Positive Rate')\n",
    "plt.xlabel('False Positive Rate')\n",
    "plt.title('ROC Curve of kNN')\n",
    "plt.show()"
   ]
  },
  {
   "cell_type": "code",
   "execution_count": null,
   "metadata": {
    "colab": {},
    "colab_type": "code",
    "id": "DTg4D-_b2X-Z"
   },
   "outputs": [],
   "source": [
    "from sklearn.preprocessing import StandardScaler\n",
    "from sklearn.decomposition import PCA\n",
    "print(X)\n",
    "x = StandardScaler().fit_transform(X)\n",
    "pca = PCA(n_components=2)\n",
    "principalComponents = pca.fit_transform(x)\n",
    "print(x)\n",
    "principalDf = pd.DataFrame(data = principalComponents)\n",
    "print(principalDf)"
   ]
  },
  {
   "cell_type": "code",
   "execution_count": null,
   "metadata": {
    "colab": {},
    "colab_type": "code",
    "id": "LfwtlDIGlOoh"
   },
   "outputs": [],
   "source": [
    "from sklearn.tree.export import export_text\n",
    "tree_rules = export_text(tree, feature_names=list(train_X))\n",
    "print(tree_rules)"
   ]
  },
  {
   "cell_type": "code",
   "execution_count": null,
   "metadata": {
    "colab": {},
    "colab_type": "code",
    "id": "6X_5dX9ah3la"
   },
   "outputs": [],
   "source": []
  }
 ],
 "metadata": {
  "colab": {
   "collapsed_sections": [],
   "name": "DA-1 Project 1",
   "provenance": []
  },
  "kernelspec": {
   "display_name": "Python 3",
   "language": "python",
   "name": "python3"
  },
  "language_info": {
   "codemirror_mode": {
    "name": "ipython",
    "version": 3
   },
   "file_extension": ".py",
   "mimetype": "text/x-python",
   "name": "python",
   "nbconvert_exporter": "python",
   "pygments_lexer": "ipython3",
   "version": "3.7.3"
  }
 },
 "nbformat": 4,
 "nbformat_minor": 1
}
